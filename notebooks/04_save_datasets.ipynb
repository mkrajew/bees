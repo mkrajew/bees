{
 "cells": [
  {
   "metadata": {},
   "cell_type": "markdown",
   "source": "# Preparing and saving datasets for future work",
   "id": "55312f473d25a64f"
  },
  {
   "metadata": {},
   "cell_type": "markdown",
   "source": "## `WingsDataset` with resized images",
   "id": "af6ace9c0bedea1f"
  },
  {
   "metadata": {
    "ExecuteTime": {
     "end_time": "2025-04-10T09:37:09.759778Z",
     "start_time": "2025-04-10T09:37:09.455815Z"
    }
   },
   "cell_type": "code",
   "source": [
    "import torch\n",
    "\n",
    "from wings.config import RAW_DATA_DIR, PROCESSED_DATA_DIR\n",
    "from wings.dataset import WingsDataset, WingsDatasetRectangleImages\n",
    "from wings.visualizing.image_preprocess import resize_preprocess, fit_rectangle_preprocess\n",
    "\n",
    "countries = ['AT', 'GR', 'HR', 'HU', 'MD', 'PL', 'RO', 'SI']\n",
    "wings_dataset = WingsDataset(countries, RAW_DATA_DIR, resize_preprocess)\n",
    "\n",
    "train_dataset, val_dataset, test_dataset = wings_dataset.split(0.2, 0.1)"
   ],
   "id": "75295beed8bdad11",
   "outputs": [
    {
     "name": "stderr",
     "output_type": "stream",
     "text": [
      "100%|██████████| 21722/21722 [00:00<00:00, 111033.66it/s]\n"
     ]
    }
   ],
   "execution_count": 8
  },
  {
   "metadata": {
    "ExecuteTime": {
     "end_time": "2025-04-10T09:37:13.319033Z",
     "start_time": "2025-04-10T09:37:13.315538Z"
    }
   },
   "cell_type": "code",
   "source": [
    "print(len(train_dataset))\n",
    "print(len(val_dataset))\n",
    "print(len(test_dataset))\n",
    "print(len(train_dataset) + len(val_dataset) + len(test_dataset))"
   ],
   "id": "919b067edf03aa66",
   "outputs": [
    {
     "name": "stdout",
     "output_type": "stream",
     "text": [
      "15206\n",
      "4344\n",
      "2172\n",
      "21722\n"
     ]
    }
   ],
   "execution_count": 9
  },
  {
   "metadata": {
    "ExecuteTime": {
     "end_time": "2025-04-09T20:37:07.931470Z",
     "start_time": "2025-04-09T20:37:04.835982Z"
    }
   },
   "cell_type": "code",
   "source": [
    "torch.save(train_dataset, PROCESSED_DATA_DIR / 'train_dataset2.pth')\n",
    "torch.save(val_dataset, PROCESSED_DATA_DIR / 'val_dataset2.pth')\n",
    "torch.save(test_dataset, PROCESSED_DATA_DIR / 'test_dataset2.pth')"
   ],
   "id": "1e9df46b21e10022",
   "outputs": [],
   "execution_count": 4
  },
  {
   "metadata": {},
   "cell_type": "markdown",
   "source": "## `WingsDatasetRectangleImages` with images resized keeping aspect ratio and padded missing space",
   "id": "b87103688a357918"
  },
  {
   "metadata": {
    "ExecuteTime": {
     "end_time": "2025-04-10T09:37:18.214429Z",
     "start_time": "2025-04-10T09:37:17.973366Z"
    }
   },
   "cell_type": "code",
   "source": [
    "wings_rec_dataset = WingsDatasetRectangleImages(countries, RAW_DATA_DIR, fit_rectangle_preprocess)\n",
    "\n",
    "train_rec_dataset, val_rec_dataset, test_rec_dataset = wings_rec_dataset.split(0.2, 0.1)\n"
   ],
   "id": "2db9106778842896",
   "outputs": [
    {
     "name": "stderr",
     "output_type": "stream",
     "text": [
      "100%|██████████| 21722/21722 [00:00<00:00, 116024.31it/s]\n"
     ]
    }
   ],
   "execution_count": 10
  },
  {
   "metadata": {
    "ExecuteTime": {
     "end_time": "2025-04-10T09:37:28.597448Z",
     "start_time": "2025-04-10T09:37:27.022281Z"
    }
   },
   "cell_type": "code",
   "source": [
    "torch.save(train_rec_dataset, PROCESSED_DATA_DIR / 'train_rec_dataset2.pth')\n",
    "torch.save(val_rec_dataset, PROCESSED_DATA_DIR / 'val_rec_dataset2.pth')\n",
    "torch.save(test_rec_dataset, PROCESSED_DATA_DIR / 'test_rec_dataset2.pth')"
   ],
   "id": "e2e569d6c800ea28",
   "outputs": [],
   "execution_count": 11
  }
 ],
 "metadata": {
  "kernelspec": {
   "display_name": "Python 3",
   "language": "python",
   "name": "python3"
  },
  "language_info": {
   "codemirror_mode": {
    "name": "ipython",
    "version": 2
   },
   "file_extension": ".py",
   "mimetype": "text/x-python",
   "name": "python",
   "nbconvert_exporter": "python",
   "pygments_lexer": "ipython2",
   "version": "2.7.6"
  }
 },
 "nbformat": 4,
 "nbformat_minor": 5
}
