{
 "cells": [
  {
   "metadata": {},
   "cell_type": "markdown",
   "source": "# Preparing and saving datasets for future work",
   "id": "55312f473d25a64f"
  },
  {
   "metadata": {},
   "cell_type": "markdown",
   "source": "## `WingsDataset` with resized images",
   "id": "af6ace9c0bedea1f"
  },
  {
   "metadata": {
    "ExecuteTime": {
     "end_time": "2025-05-29T12:37:01.944747Z",
     "start_time": "2025-05-29T12:37:01.935353Z"
    }
   },
   "cell_type": "code",
   "source": [
    "import torch\n",
    "\n",
    "from wings.config import RAW_DATA_DIR, PROCESSED_DATA_DIR\n",
    "from wings.dataset import WingsDataset, WingsDatasetRectangleImages, MasksDataset\n",
    "from wings.visualizing.image_preprocess import resize_preprocess, fit_rectangle_preprocess, unet_preprocess\n",
    "\n",
    "countries = ['AT', 'GR', 'HR', 'HU', 'MD', 'PL', 'RO', 'SI']"
   ],
   "id": "96aa945832b9dc0c",
   "outputs": [],
   "execution_count": 4
  },
  {
   "metadata": {},
   "cell_type": "code",
   "source": [
    "wings_dataset = WingsDataset(countries, RAW_DATA_DIR, resize_preprocess)\n",
    "\n",
    "train_dataset, val_dataset, test_dataset = wings_dataset.split(0.2, 0.1)"
   ],
   "id": "75295beed8bdad11",
   "outputs": [],
   "execution_count": null
  },
  {
   "metadata": {},
   "cell_type": "code",
   "source": [
    "print(len(train_dataset))\n",
    "print(len(val_dataset))\n",
    "print(len(test_dataset))\n",
    "print(len(train_dataset) + len(val_dataset) + len(test_dataset))"
   ],
   "id": "919b067edf03aa66",
   "outputs": [],
   "execution_count": null
  },
  {
   "metadata": {},
   "cell_type": "code",
   "source": [
    "torch.save(train_dataset, PROCESSED_DATA_DIR / \"resize_datasets\" / 'train_dataset2.pth')\n",
    "torch.save(val_dataset, PROCESSED_DATA_DIR / \"resize_datasets\" / 'val_dataset2.pth')\n",
    "torch.save(test_dataset, PROCESSED_DATA_DIR / \"resize_datasets\" / 'test_dataset2.pth')"
   ],
   "id": "1e9df46b21e10022",
   "outputs": [],
   "execution_count": null
  },
  {
   "metadata": {},
   "cell_type": "markdown",
   "source": "## `WingsDatasetRectangleImages` with images resized keeping aspect ratio and padded missing space",
   "id": "b87103688a357918"
  },
  {
   "metadata": {},
   "cell_type": "code",
   "source": [
    "wings_rec_dataset = WingsDatasetRectangleImages(countries, RAW_DATA_DIR, fit_rectangle_preprocess)\n",
    "\n",
    "train_rec_dataset, val_rec_dataset, test_rec_dataset = wings_rec_dataset.split(0.2, 0.1)\n"
   ],
   "id": "2db9106778842896",
   "outputs": [],
   "execution_count": null
  },
  {
   "metadata": {},
   "cell_type": "code",
   "source": [
    "torch.save(train_rec_dataset, PROCESSED_DATA_DIR / \"rectangle_datasets\" / 'train_rec_dataset2.pth')\n",
    "torch.save(val_rec_dataset, PROCESSED_DATA_DIR / \"rectangle_datasets\" / 'val_rec_dataset2.pth')\n",
    "torch.save(test_rec_dataset, PROCESSED_DATA_DIR / \"rectangle_datasets\" / 'test_rec_dataset2.pth')"
   ],
   "id": "e2e569d6c800ea28",
   "outputs": [],
   "execution_count": null
  },
  {
   "metadata": {},
   "cell_type": "markdown",
   "source": "# `MaskDataset` for `UNet` model",
   "id": "8516c48047470484"
  },
  {
   "metadata": {
    "ExecuteTime": {
     "end_time": "2025-05-29T12:37:07.691946Z",
     "start_time": "2025-05-29T12:37:07.156434Z"
    }
   },
   "cell_type": "code",
   "source": [
    "mask_dataset = MasksDataset(countries, RAW_DATA_DIR, unet_preprocess)\n",
    "\n",
    "train_mask_dataset, val_mask_dataset, test_mask_dataset = mask_dataset.split(0.2, 0.1)"
   ],
   "id": "3ea5aee5fbc69a53",
   "outputs": [
    {
     "name": "stderr",
     "output_type": "stream",
     "text": [
      "100%|██████████| 21722/21722 [00:00<00:00, 73543.77it/s] \n"
     ]
    }
   ],
   "execution_count": 5
  },
  {
   "metadata": {
    "ExecuteTime": {
     "end_time": "2025-05-29T12:37:32.629008Z",
     "start_time": "2025-05-29T12:37:30.910374Z"
    }
   },
   "cell_type": "code",
   "source": [
    "torch.save(train_mask_dataset, PROCESSED_DATA_DIR / \"mask_datasets\" / 'square5' / 'train_mask_dataset2.pth')\n",
    "torch.save(val_mask_dataset, PROCESSED_DATA_DIR / \"mask_datasets\" / 'square5' / 'val_mask_dataset2.pth')\n",
    "torch.save(test_mask_dataset, PROCESSED_DATA_DIR / \"mask_datasets\" / 'square5' / 'test_mask_dataset2.pth')"
   ],
   "id": "5bb616e2849eeeb",
   "outputs": [],
   "execution_count": 7
  },
  {
   "metadata": {},
   "cell_type": "markdown",
   "source": [
    "Unet was first trained at `..._mask_dataset` and got the following results:\n",
    "- bad_masks=97\n",
    "- all masks:\t2172.\n",
    "- bad rate:\t4.47%.\n",
    "- Average MSE over the dataset: 0.469 (calculated at the resized images)\n",
    "- square size: 5\n",
    "\n",
    "After that, the implementation of the dataset changed, and the datasets where resaved with the name `..._mask_dataset2`.\n",
    "Further training was performed on the new datasets."
   ],
   "id": "a716c529495621a4"
  },
  {
   "metadata": {},
   "cell_type": "markdown",
   "source": "## square size 3",
   "id": "beae09124a4f7ce5"
  },
  {
   "metadata": {
    "ExecuteTime": {
     "end_time": "2025-05-29T12:37:37.255981Z",
     "start_time": "2025-05-29T12:37:36.968895Z"
    }
   },
   "cell_type": "code",
   "source": [
    "mask_dataset_s3 = MasksDataset(countries, RAW_DATA_DIR, unet_preprocess, square_size=3)\n",
    "\n",
    "train_mask_dataset_s3, val_mask_dataset_s3, test_mask_dataset_s3 = mask_dataset_s3.split(0.2, 0.1)\n"
   ],
   "id": "3a2aeaf2ea275b",
   "outputs": [
    {
     "name": "stderr",
     "output_type": "stream",
     "text": [
      "100%|██████████| 21722/21722 [00:00<00:00, 99411.96it/s] \n"
     ]
    }
   ],
   "execution_count": 8
  },
  {
   "metadata": {
    "ExecuteTime": {
     "end_time": "2025-05-29T12:37:40.961427Z",
     "start_time": "2025-05-29T12:37:39.290134Z"
    }
   },
   "cell_type": "code",
   "source": [
    "torch.save(train_mask_dataset_s3, PROCESSED_DATA_DIR / \"mask_datasets\" / 'square3' / 'train_mask_dataset.pth')\n",
    "torch.save(val_mask_dataset_s3, PROCESSED_DATA_DIR / \"mask_datasets\" / 'square3' / 'val_mask_dataset.pth')\n",
    "torch.save(test_mask_dataset_s3, PROCESSED_DATA_DIR / \"mask_datasets\" / 'square3' / 'test_mask_dataset.pth')\n",
    "## square size 3"
   ],
   "id": "86b5af17ace32990",
   "outputs": [],
   "execution_count": 9
  }
 ],
 "metadata": {
  "kernelspec": {
   "display_name": "Python 3",
   "language": "python",
   "name": "python3"
  },
  "language_info": {
   "codemirror_mode": {
    "name": "ipython",
    "version": 2
   },
   "file_extension": ".py",
   "mimetype": "text/x-python",
   "name": "python",
   "nbconvert_exporter": "python",
   "pygments_lexer": "ipython2",
   "version": "2.7.6"
  }
 },
 "nbformat": 4,
 "nbformat_minor": 5
}
