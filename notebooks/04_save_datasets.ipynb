{
 "cells": [
  {
   "metadata": {},
   "cell_type": "markdown",
   "source": "# Preparing and saving datasets for future work",
   "id": "55312f473d25a64f"
  },
  {
   "metadata": {},
   "cell_type": "markdown",
   "source": "## `WingsDataset` with resized images",
   "id": "af6ace9c0bedea1f"
  },
  {
   "metadata": {
    "ExecuteTime": {
     "end_time": "2025-04-07T13:44:42.008053Z",
     "start_time": "2025-04-07T13:44:41.698212Z"
    }
   },
   "cell_type": "code",
   "source": [
    "import torch\n",
    "from wings.visualizing.image_preprocess import resize_preprocess, fit_rectangle_preprocess\n",
    "from wings.config import RAW_DATA_DIR, PROCESSED_DATA_DIR\n",
    "\n",
    "from wings.dataset import WingsDataset, WingsDatasetRectangleImages\n",
    "\n",
    "countries = ['AT', 'GR', 'HR', 'HU', 'MD', 'PL', 'RO', 'SI']\n",
    "wings_dataset = WingsDataset(countries, RAW_DATA_DIR, resize_preprocess)\n",
    "\n",
    "train_dataset, val_dataset, test_dataset = wings_dataset.split(0.2, 0.1)"
   ],
   "id": "75295beed8bdad11",
   "outputs": [
    {
     "name": "stderr",
     "output_type": "stream",
     "text": [
      "100%|██████████| 21722/21722 [00:00<00:00, 99232.87it/s] \n"
     ]
    }
   ],
   "execution_count": 5
  },
  {
   "metadata": {
    "ExecuteTime": {
     "end_time": "2025-04-07T13:42:21.316213Z",
     "start_time": "2025-04-07T13:42:19.502600Z"
    }
   },
   "cell_type": "code",
   "source": [
    "torch.save(train_dataset, PROCESSED_DATA_DIR / 'train_dataset2.pth')\n",
    "torch.save(val_dataset, PROCESSED_DATA_DIR / 'val_dataset2.pth')\n",
    "torch.save(test_dataset, PROCESSED_DATA_DIR / 'test_dataset2.pth')"
   ],
   "id": "1e9df46b21e10022",
   "outputs": [],
   "execution_count": 3
  },
  {
   "metadata": {},
   "cell_type": "markdown",
   "source": "## `WingsDatasetRectangleImages` with images resized keeping aspect ratio and padded missing space",
   "id": "b87103688a357918"
  },
  {
   "metadata": {
    "ExecuteTime": {
     "end_time": "2025-04-07T13:44:46.771600Z",
     "start_time": "2025-04-07T13:44:46.511776Z"
    }
   },
   "cell_type": "code",
   "source": [
    "countries = ['AT', 'GR', 'HR', 'HU', 'MD', 'PL', 'RO', 'SI']\n",
    "wings_rec_dataset = WingsDatasetRectangleImages(countries, RAW_DATA_DIR, fit_rectangle_preprocess)\n",
    "\n",
    "train_rec_dataset, val_rec_dataset, test_rec_dataset = wings_rec_dataset.split(0.2, 0.1)\n"
   ],
   "id": "2db9106778842896",
   "outputs": [
    {
     "name": "stderr",
     "output_type": "stream",
     "text": [
      "100%|██████████| 21722/21722 [00:00<00:00, 108136.49it/s]\n"
     ]
    }
   ],
   "execution_count": 6
  },
  {
   "metadata": {
    "ExecuteTime": {
     "end_time": "2025-04-07T13:45:50.087848Z",
     "start_time": "2025-04-07T13:45:48.375272Z"
    }
   },
   "cell_type": "code",
   "source": [
    "torch.save(train_rec_dataset, PROCESSED_DATA_DIR / 'train_rec_dataset2.pth')\n",
    "torch.save(val_rec_dataset, PROCESSED_DATA_DIR / 'val_rec_dataset2.pth')\n",
    "torch.save(test_rec_dataset, PROCESSED_DATA_DIR / 'test_rec_dataset2.pth')"
   ],
   "id": "e2e569d6c800ea28",
   "outputs": [],
   "execution_count": 7
  }
 ],
 "metadata": {
  "kernelspec": {
   "display_name": "Python 3",
   "language": "python",
   "name": "python3"
  },
  "language_info": {
   "codemirror_mode": {
    "name": "ipython",
    "version": 2
   },
   "file_extension": ".py",
   "mimetype": "text/x-python",
   "name": "python",
   "nbconvert_exporter": "python",
   "pygments_lexer": "ipython2",
   "version": "2.7.6"
  }
 },
 "nbformat": 4,
 "nbformat_minor": 5
}
