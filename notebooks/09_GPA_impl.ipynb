{
 "cells": [
  {
   "metadata": {},
   "cell_type": "markdown",
   "source": [
    "# GPA\n",
    "Generalized Procrustes analysis"
   ],
   "id": "9ad2e4ad2348ce21"
  },
  {
   "metadata": {
    "ExecuteTime": {
     "end_time": "2025-10-16T16:01:51.251308Z",
     "start_time": "2025-10-16T16:01:50.061545Z"
    }
   },
   "cell_type": "code",
   "source": [
    "import torch\n",
    "\n",
    "\n",
    "def center_shape(x):\n",
    "    \"\"\"Removes translation by shifting the shape so that its centroid is at (0, 0).\"\"\"\n",
    "    return x - x.mean(dim=0, keepdim=True)\n",
    "\n",
    "\n",
    "def normalize_shape(x):\n",
    "    \"\"\"Scales the shape so that it has unit length (normalizes its size).\"\"\"\n",
    "    return x / torch.norm(x)\n",
    "\n",
    "\n",
    "def procrustes_align(x, y, only_matrix=False):\n",
    "    \"\"\"\n",
    "    Aligns shape X to shape Y by rotation (Procrustes alignment).\n",
    "    Assumes both shapes are already centered and normalized.\n",
    "    \"\"\"\n",
    "    # Orthogonal rotation matrix `r` computed via SVD\n",
    "    u, _, vt = torch.linalg.svd(x.T @ y)\n",
    "    r = u @ vt\n",
    "    if torch.det(r) < 0:\n",
    "        # det(r)<0 means that it is a flip, not a rotation\n",
    "        # flip last column of U\n",
    "        u[:, -1] *= -1\n",
    "        r = u @ vt\n",
    "    if only_matrix:\n",
    "        return r\n",
    "    return x @ r\n",
    "\n",
    "\n",
    "def generalized_procrustes_analysis(shapes, tol=1e-6, max_iter=100, device=torch.device('cpu')):\n",
    "    \"\"\"\n",
    "    Performs Generalized Procrustes Analysis (GPA) on a set of 2D shapes.\n",
    "\n",
    "    Args:\n",
    "        shapes (torch.Tensor): Tensor of shape (N, n_points, 2) containing N shapes.\n",
    "        tol (float): Convergence tolerance for mean shape updates.\n",
    "        max_iter (int): Maximum number of iterations allowed.\n",
    "        device (torch.device): Device on which to perform computations.\n",
    "\n",
    "    Returns:\n",
    "        mean_shape (torch.Tensor): The resulting mean shape of shape (n_points, 2).\n",
    "    \"\"\"\n",
    "    shapes = shapes.to(device, dtype=torch.float32)\n",
    "    shapes = torch.stack([normalize_shape(center_shape(s)) for s in shapes])\n",
    "    mean_shape = normalize_shape(shapes.mean(dim=0))\n",
    "\n",
    "    for i in range(max_iter):\n",
    "        aligned = []\n",
    "        for s in shapes:\n",
    "            aligned.append(procrustes_align(s, mean_shape))\n",
    "        aligned = torch.stack(aligned)\n",
    "\n",
    "        new_mean = normalize_shape(aligned.mean(dim=0))\n",
    "        diff = torch.norm(mean_shape - new_mean)\n",
    "        mean_shape = new_mean\n",
    "\n",
    "        print(f\"Iteration {i} diff: {diff}\")\n",
    "\n",
    "        if diff < tol:\n",
    "            print(f\"Convergence reached after {i + 1} iterations.\")\n",
    "            break\n",
    "\n",
    "    return mean_shape\n",
    "\n",
    "\n"
   ],
   "id": "d9039997c327bd9b",
   "outputs": [],
   "execution_count": 1
  },
  {
   "metadata": {},
   "cell_type": "markdown",
   "source": "# Dataset",
   "id": "747afa22191e5ace"
  },
  {
   "metadata": {
    "ExecuteTime": {
     "end_time": "2025-10-16T16:01:53.047034Z",
     "start_time": "2025-10-16T16:01:51.256214Z"
    }
   },
   "cell_type": "code",
   "source": [
    "import torch\n",
    "\n",
    "from wings.config import PROCESSED_DATA_DIR\n",
    "\n",
    "countries = ['AT', 'GR', 'HR', 'HU', 'MD', 'PL', 'RO', 'SI']\n",
    "train_dataset = torch.load(\n",
    "    PROCESSED_DATA_DIR / \"mask_datasets\" / 'rectangle' / \"train_mask_dataset.pth\",\n",
    "    weights_only=False\n",
    ")\n",
    "max_n = len(train_dataset)\n",
    "print(max_n)\n",
    "_, _, orig_labels, _ = train_dataset[0]\n",
    "print(orig_labels.shape)\n"
   ],
   "id": "a93af3e7d0db2692",
   "outputs": [
    {
     "name": "stderr",
     "output_type": "stream",
     "text": [
      "\u001B[32m2025-10-17 00:01:51.269\u001B[0m | \u001B[1mINFO    \u001B[0m | \u001B[36mwings.config\u001B[0m:\u001B[36m<module>\u001B[0m:\u001B[36m40\u001B[0m - \u001B[1mPROJ_ROOT path is: /home/mkrajew/bees\u001B[0m\n",
      "\u001B[32m2025-10-17 00:01:51.389\u001B[0m | \u001B[1mINFO    \u001B[0m | \u001B[36mwings.config\u001B[0m:\u001B[36m<module>\u001B[0m:\u001B[36m62\u001B[0m - \u001B[1mtorch.cuda.get_device_name()='NVIDIA RTX A3000 12GB Laptop GPU'\u001B[0m\n"
     ]
    },
    {
     "name": "stdout",
     "output_type": "stream",
     "text": [
      "15206\n",
      "torch.Size([38])\n"
     ]
    }
   ],
   "execution_count": 2
  },
  {
   "metadata": {},
   "cell_type": "markdown",
   "source": "# Calculate GPA for Dataset",
   "id": "137b604fac02e87e"
  },
  {
   "metadata": {},
   "cell_type": "markdown",
   "source": "## Create train coordinates array",
   "id": "d2dd418a34b6ee01"
  },
  {
   "metadata": {
    "ExecuteTime": {
     "end_time": "2025-10-16T16:02:16.418213Z",
     "start_time": "2025-10-16T16:01:53.098064Z"
    }
   },
   "cell_type": "code",
   "source": [
    "from tqdm import tqdm\n",
    "from torch.utils.data import DataLoader\n",
    "\n",
    "loader = DataLoader(train_dataset, batch_size=64, num_workers=8)\n",
    "orig_coords_list = []\n",
    "for _, _, labels, _ in tqdm(loader, desc=\"Loading orig_labels\", unit=\"batch\"):\n",
    "    orig_coords_list.append(labels.view(labels.size(0), -1, 2))  # we make shape (19, 2) from shape (38)\n",
    "orig_coords = torch.cat(orig_coords_list)\n",
    "\n",
    "print(orig_coords.shape)\n",
    "\n",
    "mean_coords = generalized_procrustes_analysis(orig_coords)\n",
    "print(mean_coords.shape)\n"
   ],
   "id": "817084fdc68b8ce4",
   "outputs": [
    {
     "name": "stderr",
     "output_type": "stream",
     "text": [
      "Loading orig_labels: 100%|██████████| 238/238 [00:21<00:00, 10.89batch/s]\n"
     ]
    },
    {
     "name": "stdout",
     "output_type": "stream",
     "text": [
      "torch.Size([15206, 19, 2])\n",
      "Iteration 0 diff: 0.0001964124385267496\n",
      "Iteration 1 diff: 7.297820303620028e-08\n",
      "Convergence reached after 2 iterations.\n",
      "torch.Size([19, 2])\n"
     ]
    }
   ],
   "execution_count": 3
  },
  {
   "metadata": {},
   "cell_type": "markdown",
   "source": "## Permute coordinates",
   "id": "1f57bf17ea2a84bf"
  },
  {
   "metadata": {
    "ExecuteTime": {
     "end_time": "2025-10-16T16:02:16.641373Z",
     "start_time": "2025-10-16T16:02:16.433896Z"
    }
   },
   "cell_type": "code",
   "source": [
    "from scipy.spatial.distance import cdist\n",
    "import torch\n",
    "import numpy as np\n",
    "from scipy.optimize import linear_sum_assignment\n",
    "\n",
    "\n",
    "def solve_assignment(cost_matrix):\n",
    "    \"\"\"\n",
    "    cost_matrix: numpy array (n_mean, n_shape)\n",
    "    zwraca permutację idx: array length n_mean, idx[j] = index in shape matched to mean j\n",
    "    \"\"\"\n",
    "    r, c = linear_sum_assignment(cost_matrix)\n",
    "    idx = np.empty(cost_matrix.shape[0], dtype=int)\n",
    "    idx[r] = c\n",
    "    return idx\n",
    "\n",
    "\n",
    "def recover_order(mean_shape, unordered_shape, max_iter=5, device=torch.device('cpu')):\n",
    "    \"\"\"\n",
    "    mean_shape: torch tensor (n_points, 2)\n",
    "    unordered_shape: torch tensor (n_points, 2) - same points but random order/transform\n",
    "    Returns:\n",
    "        reordered_shape: torch tensor (n_points, 2) = unordered_shape[perm_idx]\n",
    "    \"\"\"\n",
    "    mean = mean_shape.to(device).float()\n",
    "    s = unordered_shape.to(device).float()\n",
    "    assert s.shape[0] == mean.shape[0] and mean.shape[1] == 2\n",
    "\n",
    "    mean_temp = normalize_shape(center_shape(mean)).cpu().numpy()\n",
    "    shapes_temp = normalize_shape(center_shape(s)).cpu().numpy()\n",
    "\n",
    "    cost = cdist(mean_temp, shapes_temp)  # (n,n)\n",
    "    index = solve_assignment(cost)  # idx[row]=col\n",
    "\n",
    "    for it in range(max_iter):\n",
    "        perm = torch.tensor(index, dtype=torch.long, device=device)\n",
    "        s_perm = shapes_temp[perm]\n",
    "\n",
    "        r = procrustes_align(torch.tensor(s_perm), torch.tensor(mean_temp), only_matrix=True).cpu().numpy()\n",
    "        s_rot = shapes_temp @ r  # (n,2)\n",
    "        cost = cdist(mean_temp, s_rot)\n",
    "        new_idx = solve_assignment(cost)\n",
    "\n",
    "        if np.array_equal(new_idx, index):\n",
    "            break\n",
    "        index = new_idx\n",
    "\n",
    "    reordered_shape = unordered_shape[index]\n",
    "\n",
    "    return reordered_shape\n"
   ],
   "id": "65c2be96bd68be9f",
   "outputs": [],
   "execution_count": 4
  },
  {
   "metadata": {},
   "cell_type": "markdown",
   "source": "# Test ordering coords",
   "id": "4a99c11a6dff9647"
  },
  {
   "metadata": {},
   "cell_type": "markdown",
   "source": "## Load model and test dataset",
   "id": "60d8c2179c2cf37b"
  },
  {
   "metadata": {
    "ExecuteTime": {
     "end_time": "2025-10-16T16:02:19.019187Z",
     "start_time": "2025-10-16T16:02:16.655551Z"
    }
   },
   "cell_type": "code",
   "source": [
    "from wings.modeling.loss import DiceLoss\n",
    "from wings.config import MODELS_DIR\n",
    "from wings.modeling.litnet import LitNet\n",
    "\n",
    "checkpoint_path = MODELS_DIR / 'unet-rectangle-epoch=08-val_loss=0.14-unet-training-rectangle_1.ckpt'\n",
    "unet_model = torch.hub.load(\n",
    "    'mateuszbuda/brain-segmentation-pytorch', 'unet',\n",
    "    in_channels=3, out_channels=1, init_features=32, pretrained=False\n",
    ")\n",
    "num_epochs = 60\n",
    "model = LitNet.load_from_checkpoint(checkpoint_path, model=unet_model, num_epochs=num_epochs, criterion=DiceLoss())\n",
    "model.eval()\n",
    "\n",
    "test_dataset = torch.load(\n",
    "    PROCESSED_DATA_DIR / \"mask_datasets\" / 'rectangle' / \"test_mask_dataset.pth\",\n",
    "    weights_only=False\n",
    ")\n",
    "max_n = len(test_dataset)\n"
   ],
   "id": "87bad4b507636364",
   "outputs": [
    {
     "name": "stderr",
     "output_type": "stream",
     "text": [
      "Using cache found in /home/mkrajew/.cache/torch/hub/mateuszbuda_brain-segmentation-pytorch_master\n"
     ]
    }
   ],
   "execution_count": 5
  },
  {
   "metadata": {
    "ExecuteTime": {
     "end_time": "2025-10-16T16:02:19.404400Z",
     "start_time": "2025-10-16T16:02:19.035811Z"
    }
   },
   "cell_type": "code",
   "source": [
    "from wings.visualizing.image_preprocess import mask_to_coords, unet_reverse_padding\n",
    "from sklearn.metrics import mean_squared_error\n",
    "\n",
    "n = np.random.randint(0, max_n)\n",
    "print(n)\n",
    "image, _, orig_labels, orig_size = test_dataset[n]\n",
    "\n",
    "total_mse = 0\n",
    "num_samples = 0\n",
    "bad_masks = 0\n",
    "\n",
    "output = model(image.cuda().unsqueeze(0))\n",
    "mask = torch.round(output).squeeze().detach().cpu().numpy()\n",
    "# try:\n",
    "mask_coords = mask_to_coords(mask, max_iter=1)\n",
    "\n",
    "mask_height, mask_width = mask.shape\n",
    "orig_width, orig_height = orig_size\n",
    "\n",
    "pad_left, pad_top, pad_right, pad_bottom = unet_reverse_padding(mask, orig_width, orig_height)\n",
    "\n",
    "mask_coords = [(x - pad_left, y - pad_bottom) for x, y in mask_coords]\n",
    "\n",
    "scale_x = orig_width / (mask_width - pad_right - pad_left)\n",
    "scale_y = orig_height / (mask_height - pad_top - pad_bottom)\n",
    "mask_coords = torch.tensor([(x * scale_x, y * scale_y) for x, y in mask_coords])\n",
    "\n",
    "# print(f\"mask coordinates: {mask_coords}\")\n",
    "# print(f\"original coordinates: {orig_labels}\")\n",
    "\n",
    "reordered = recover_order(mean_coords, mask_coords)\n",
    "orig = orig_labels.view(-1, 2)\n",
    "print(orig.shape)\n",
    "print(reordered.shape)\n",
    "print(mean_squared_error(orig, reordered, multioutput='raw_values'))\n",
    "for i in range(len(reordered)):\n",
    "    print(f\"{i + 1}:\\t{reordered[i]}\\t{orig[i]}\")\n",
    "# except Exception as e:\n",
    "#     print(e)"
   ],
   "id": "8d8c8d8fb3fb3e29",
   "outputs": [
    {
     "name": "stdout",
     "output_type": "stream",
     "text": [
      "860\n",
      "torch.Size([19, 2])\n",
      "torch.Size([19, 2])\n",
      "[2.32530227 1.64191289]\n",
      "1:\ttensor([219.0588, 181.0467])\ttensor([220., 183.])\n",
      "2:\ttensor([234.7059, 181.0467])\ttensor([237., 181.])\n",
      "3:\ttensor([291.0353, 268.4486])\ttensor([293., 267.])\n",
      "4:\ttensor([284.7765, 209.1402])\ttensor([287., 210.])\n",
      "5:\ttensor([294.1647, 121.7383])\ttensor([296., 122.])\n",
      "6:\ttensor([356.7529, 271.5701])\ttensor([359., 270.])\n",
      "7:\ttensor([413.0824, 302.7850])\ttensor([413., 305.])\n",
      "8:\ttensor([394.3059, 280.9346])\ttensor([397., 280.])\n",
      "9:\ttensor([438.1176, 246.5981])\ttensor([440., 246.])\n",
      "10:\ttensor([406.8235, 221.6262])\ttensor([406., 223.])\n",
      "11:\ttensor([447.5059, 187.2897])\ttensor([448., 189.])\n",
      "12:\ttensor([453.7647, 146.7103])\ttensor([454., 147.])\n",
      "13:\ttensor([472.5412, 109.2523])\ttensor([471., 110.])\n",
      "14:\ttensor([485.0588, 293.4206])\ttensor([483., 296.])\n",
      "15:\ttensor([525.7411, 255.9626])\ttensor([525., 255.])\n",
      "16:\ttensor([607.1059, 212.2617])\ttensor([607., 213.])\n",
      "17:\ttensor([635.2706, 209.1402])\ttensor([634., 209.])\n",
      "18:\ttensor([641.5294, 174.8037])\ttensor([642., 176.])\n",
      "19:\ttensor([ 93.8824, 259.0841])\ttensor([ 94., 260.])\n"
     ]
    }
   ],
   "execution_count": 6
  },
  {
   "metadata": {},
   "cell_type": "markdown",
   "source": "# Calculate statistics",
   "id": "1c60b67ff991fc78"
  },
  {
   "metadata": {
    "ExecuteTime": {
     "end_time": "2025-10-16T16:04:03.287444Z",
     "start_time": "2025-10-16T16:03:35.460437Z"
    }
   },
   "cell_type": "code",
   "source": [
    "import torch\n",
    "import numpy as np\n",
    "from tqdm import tqdm\n",
    "\n",
    "device = torch.device(\"cuda\" if torch.cuda.is_available() else \"cpu\")\n",
    "model = model.to(device)\n",
    "model.eval()\n",
    "\n",
    "original_labels = []\n",
    "predicted_labels = []\n",
    "bad_masks = 0\n",
    "bad_indices = []\n",
    "\n",
    "for idx, (image, label, original_coords, orig_size) in enumerate(tqdm(test_dataset, desc=\"Evaluating\")):\n",
    "    image = image.to(device).unsqueeze(0)\n",
    "\n",
    "    with torch.no_grad():\n",
    "        output = model(image)\n",
    "        mask = torch.round(output).squeeze().cpu().numpy()\n",
    "\n",
    "    try:\n",
    "        mask_coords = mask_to_coords(mask, max_iter=1)\n",
    "        mask_height, mask_width = mask.shape\n",
    "        orig_width, orig_height = orig_size\n",
    "\n",
    "        pad_left, pad_top, pad_right, pad_bottom = unet_reverse_padding(mask, orig_width, orig_height)\n",
    "        mask_coords = [(x - pad_left, y - pad_bottom) for x, y in mask_coords]\n",
    "\n",
    "        scale_x = orig_width / (mask_width - pad_right - pad_left)\n",
    "        scale_y = orig_height / (mask_height - pad_top - pad_bottom)\n",
    "        mask_coords_scaled = torch.tensor([(x * scale_x, y * scale_y) for x, y in mask_coords])\n",
    "\n",
    "        reordered= recover_order(mean_coords, mask_coords_scaled)\n",
    "        orig = original_coords.view(-1, 2)\n",
    "\n",
    "        original_labels.append(orig.cpu().numpy())\n",
    "        predicted_labels.append(reordered.cpu().numpy())\n",
    "\n",
    "    except Exception as e:\n",
    "        bad_masks += 1\n",
    "        bad_indices.append(idx)\n",
    "        continue\n",
    "\n",
    "print(f\"Total samples: {len(test_dataset)}\")\n",
    "print(f\"Failed masks: {bad_masks}\")\n",
    "\n",
    "original_labels = np.stack(original_labels)\n",
    "predicted_labels = np.stack(predicted_labels)\n",
    "\n",
    "print(f\"original_labels.shape = {original_labels.shape}\")\n",
    "print(f\"predicted_labels.shape = {predicted_labels.shape}\")\n"
   ],
   "id": "fc66eae50adcd73e",
   "outputs": [
    {
     "name": "stderr",
     "output_type": "stream",
     "text": [
      "Evaluating: 100%|██████████| 2172/2172 [00:27<00:00, 78.11it/s] "
     ]
    },
    {
     "name": "stdout",
     "output_type": "stream",
     "text": [
      "Total samples: 2172\n",
      "Failed masks: 37\n",
      "original_labels.shape = (2135, 19, 2)\n",
      "predicted_labels.shape = (2135, 19, 2)\n"
     ]
    },
    {
     "name": "stderr",
     "output_type": "stream",
     "text": [
      "\n"
     ]
    }
   ],
   "execution_count": 8
  },
  {
   "metadata": {
    "ExecuteTime": {
     "end_time": "2025-10-16T16:04:09.029693Z",
     "start_time": "2025-10-16T16:04:09.022123Z"
    }
   },
   "cell_type": "code",
   "source": [
    "import numpy as np\n",
    "\n",
    "original = original_labels\n",
    "predicted = predicted_labels\n",
    "\n",
    "errors = np.linalg.norm(predicted - original, axis=2)  # shape: (n_samples, 19)\n",
    "max_error_value = errors.max()\n",
    "\n",
    "max_sample_idx_in_errors = np.unravel_index(np.argmax(errors), errors.shape)[0]\n",
    "\n",
    "all_indices = list(range(len(test_dataset)))\n",
    "good_indices = [i for i in all_indices if i not in bad_indices]\n",
    "\n",
    "# Now map back\n",
    "original_dataset_index = good_indices[max_sample_idx_in_errors]\n",
    "\n",
    "print(original_dataset_index)"
   ],
   "id": "1ff4bd08df20a28d",
   "outputs": [
    {
     "name": "stdout",
     "output_type": "stream",
     "text": [
      "522\n"
     ]
    }
   ],
   "execution_count": 9
  },
  {
   "metadata": {
    "ExecuteTime": {
     "end_time": "2025-10-16T16:04:12.196413Z",
     "start_time": "2025-10-16T16:04:12.187441Z"
    }
   },
   "cell_type": "code",
   "source": [
    "import numpy as np\n",
    "\n",
    "original = original_labels\n",
    "predicted = predicted_labels\n",
    "\n",
    "# Compute per-sample errors (norm over axis=2)\n",
    "errors = np.linalg.norm(predicted - original, axis=2)  # shape: (n_samples, 19)\n",
    "\n",
    "# Flatten to find top-n largest errors globally\n",
    "flat_errors = errors.flatten()\n",
    "\n",
    "# Choose how many you want\n",
    "n = 10  # top 5 biggest errors\n",
    "\n",
    "# Get indices of top-n largest errors\n",
    "top_n_flat_indices = np.argpartition(-flat_errors, n)[:n]\n",
    "\n",
    "# Sort them in descending order by actual error values\n",
    "top_n_flat_indices = top_n_flat_indices[np.argsort(-flat_errors[top_n_flat_indices])]\n",
    "\n",
    "# Convert back to 2D indices (sample index, inner index)\n",
    "top_n_indices_2d = np.array(np.unravel_index(top_n_flat_indices, errors.shape)).T  # shape: (n, 2)\n",
    "\n",
    "# Extract only the sample indices (first column)\n",
    "top_n_sample_indices = top_n_indices_2d[:, 0]\n",
    "\n",
    "# Map to original dataset indices\n",
    "all_indices = list(range(len(test_dataset)))\n",
    "good_indices = [i for i in all_indices if i not in bad_indices]\n",
    "\n",
    "original_dataset_indices = [good_indices[i] for i in top_n_sample_indices]\n",
    "\n",
    "print(\"Top-n errors (dataset_index, point, error_value):\")\n",
    "for (sample_idx, inner_idx), dataset_idx in zip(top_n_indices_2d, original_dataset_indices):\n",
    "    print(f\"Index={dataset_idx:5.0f}\\t\\tPoint {inner_idx:2.0f}\\tError={errors[sample_idx, inner_idx]:7.2f}\")\n"
   ],
   "id": "98408b809a272aec",
   "outputs": [
    {
     "name": "stdout",
     "output_type": "stream",
     "text": [
      "Top-n errors (dataset_index, point, error_value):\n",
      "Index=  522\t\tPoint  2\tError= 165.78\n",
      "Index= 1815\t\tPoint 17\tError= 126.55\n",
      "Index=  522\t\tPoint  3\tError=  70.10\n",
      "Index= 1350\t\tPoint 18\tError=  20.94\n",
      "Index=  259\t\tPoint 17\tError=  16.12\n",
      "Index=  284\t\tPoint  3\tError=  12.83\n",
      "Index= 1732\t\tPoint  4\tError=  10.98\n",
      "Index= 1409\t\tPoint 13\tError=   9.84\n",
      "Index=  517\t\tPoint 13\tError=   9.63\n",
      "Index= 1117\t\tPoint 13\tError=   9.26\n"
     ]
    }
   ],
   "execution_count": 10
  },
  {
   "metadata": {
    "ExecuteTime": {
     "end_time": "2025-10-16T16:04:27.731578Z",
     "start_time": "2025-10-16T16:04:27.727012Z"
    }
   },
   "cell_type": "code",
   "source": [
    "threshold = 3.5\n",
    "\n",
    "num_errors_above_threshold = np.sum(errors > threshold)\n",
    "\n",
    "# Całkowita liczba elementów\n",
    "total_points = errors.size\n",
    "\n",
    "# Procent\n",
    "percentage = (num_errors_above_threshold / total_points) * 100\n",
    "\n",
    "print(f\"Liczba punktów z błędem > {threshold}: {num_errors_above_threshold}\")\n",
    "print(f\"Procent wszystkich punktów: {percentage:.2f}%\")\n"
   ],
   "id": "7cc5aa959ba7f5d6",
   "outputs": [
    {
     "name": "stdout",
     "output_type": "stream",
     "text": [
      "Liczba punktów z błędem > 3.5: 2194\n",
      "Procent wszystkich punktów: 5.41%\n"
     ]
    }
   ],
   "execution_count": 14
  },
  {
   "metadata": {
    "ExecuteTime": {
     "end_time": "2025-10-16T16:04:31.726196Z",
     "start_time": "2025-10-16T16:04:31.541111Z"
    }
   },
   "cell_type": "code",
   "source": [
    "import numpy as np\n",
    "import matplotlib.pyplot as plt\n",
    "\n",
    "# Zakładamy, że masz już tablicę errors o shape (n_samples, 19)\n",
    "# errors = np.linalg.norm(predicted - original, axis=2)\n",
    "\n",
    "flat_errors = errors.flatten()\n",
    "\n",
    "# Maksymalny błąd (zaokrąglony w górę)\n",
    "# m = int(np.ceil(flat_errors.max()))\n",
    "m = 10\n",
    "\n",
    "# Progi od 0 do m\n",
    "x_values = np.arange(0, m + 1)\n",
    "\n",
    "# Liczba i procent punktów z błędem > x\n",
    "counts = [np.sum(flat_errors > x) for x in x_values]\n",
    "percentages = [100 * c / len(flat_errors) for c in counts]\n",
    "\n",
    "# Tworzymy wykres\n",
    "fig, ax1 = plt.subplots(figsize=(9, 5))\n",
    "\n",
    "# Kolumny - liczba punktów (log scale)\n",
    "ax1.bar(x_values, counts, color='steelblue', alpha=0.7, label='Liczba punktów (błąd > x)')\n",
    "ax1.set_xlabel('Próg błędu (x)')\n",
    "ax1.set_ylabel('Liczba punktów (log)')\n",
    "# ax1.set_yscale('log')  # <<<<<< LOGARYTMICZNA SKALA\n",
    "ax1.grid(True, which=\"both\", axis='y', linestyle='--', alpha=0.5)\n",
    "ax1.set_title('Liczba i procent punktów z błędem większym niż x')\n",
    "\n",
    "# Druga oś - procent punktów\n",
    "ax2 = ax1.twinx()\n",
    "ax2.plot(x_values, percentages, color='darkorange', marker='o', label='Procent punktów (%)')\n",
    "ax2.set_ylabel('Procent wszystkich punktów')\n",
    "\n",
    "# Legenda łączona\n",
    "lines, labels = ax1.get_legend_handles_labels()\n",
    "lines2, labels2 = ax2.get_legend_handles_labels()\n",
    "ax1.legend(lines + lines2, labels + labels2, loc='upper right')\n",
    "\n",
    "plt.tight_layout()\n",
    "plt.show()\n"
   ],
   "id": "726a3a910f0b4d51",
   "outputs": [
    {
     "data": {
      "text/plain": [
       "<Figure size 900x500 with 2 Axes>"
      ],
      "image/png": "[encoded data removed]"
     },
     "metadata": {},
     "output_type": "display_data"
    }
   ],
   "execution_count": 15
  }
 ],
 "metadata": {
  "kernelspec": {
   "display_name": "Python 3",
   "language": "python",
   "name": "python3"
  },
  "language_info": {
   "codemirror_mode": {
    "name": "ipython",
    "version": 2
   },
   "file_extension": ".py",
   "mimetype": "text/x-python",
   "name": "python",
   "nbconvert_exporter": "python",
   "pygments_lexer": "ipython2",
   "version": "2.7.6"
  }
 },
 "nbformat": 4,
 "nbformat_minor": 5
}
