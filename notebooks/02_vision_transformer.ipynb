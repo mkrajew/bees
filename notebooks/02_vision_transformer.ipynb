{
 "cells": [
  {
   "cell_type": "code",
   "id": "initial_id",
   "metadata": {
    "collapsed": true,
    "ExecuteTime": {
     "end_time": "2025-04-10T20:21:17.974053Z",
     "start_time": "2025-04-10T20:21:17.926714Z"
    }
   },
   "source": [
    "import numpy as np\n",
    "import torch\n",
    "from torchvision.models import ViT_B_32_Weights, vit_b_32\n",
    "\n",
    "from wings.config import MODELS_DIR, PROCESSED_DATA_DIR\n",
    "from wings.modeling.litnet import LitNet\n",
    "from wings.modeling.models import TransformerPreTrained\n",
    "from wings.visualizing.image_preprocess import denormalize\n",
    "from wings.visualizing.visualize import visualize_coords"
   ],
   "outputs": [],
   "execution_count": 3
  },
  {
   "metadata": {
    "ExecuteTime": {
     "end_time": "2025-04-10T20:44:29.801012Z",
     "start_time": "2025-04-10T20:44:27.629171Z"
    }
   },
   "cell_type": "code",
   "source": [
    "test_dataset = torch.load(PROCESSED_DATA_DIR / \"test_dataset.pth\", weights_only=False)\n",
    "checkpoint_path = MODELS_DIR / 'transformer32-epoch=51-val_loss=17.39-test-transformer_1.ckpt'\n",
    "# checkpoint_path = MODELS_DIR / 'transformer-epoch=56-val_loss=17.36-v03.ckpt'\n",
    "weights = ViT_B_32_Weights.DEFAULT\n",
    "transformer_model = TransformerPreTrained(vit_b_32, weights)\n",
    "\n",
    "num_epochs = 60\n",
    "model = LitNet.load_from_checkpoint(checkpoint_path, model=transformer_model, num_epochs=num_epochs)\n",
    "model.eval()\n",
    "\n",
    "max_n = len(test_dataset)"
   ],
   "id": "d026453db0f32d50",
   "outputs": [],
   "execution_count": 227
  },
  {
   "metadata": {
    "ExecuteTime": {
     "end_time": "2025-05-12T13:13:38.539052Z",
     "start_time": "2025-05-12T13:13:38.288854Z"
    }
   },
   "cell_type": "code",
   "source": [
    "n = np.random.randint(0, max_n)\n",
    "image, label = test_dataset[n]\n",
    "labels = model(image.cuda().unsqueeze(0))\n",
    "image = denormalize(image)\n",
    "visualize_coords(image, labels.squeeze(0), spot_size=2)"
   ],
   "id": "60fbf5dad481e22d",
   "outputs": [
    {
     "ename": "NameError",
     "evalue": "name 'np' is not defined",
     "output_type": "error",
     "traceback": [
      "\u001B[31m---------------------------------------------------------------------------\u001B[39m",
      "\u001B[31mNameError\u001B[39m                                 Traceback (most recent call last)",
      "\u001B[36mCell\u001B[39m\u001B[36m \u001B[39m\u001B[32mIn[1]\u001B[39m\u001B[32m, line 1\u001B[39m\n\u001B[32m----> \u001B[39m\u001B[32m1\u001B[39m n = \u001B[43mnp\u001B[49m.random.randint(\u001B[32m0\u001B[39m, max_n)\n\u001B[32m      2\u001B[39m image, label = test_dataset[n]\n\u001B[32m      3\u001B[39m labels = model(image.cuda().unsqueeze(\u001B[32m0\u001B[39m))\n",
      "\u001B[31mNameError\u001B[39m: name 'np' is not defined"
     ]
    }
   ],
   "execution_count": 1
  }
 ],
 "metadata": {
  "kernelspec": {
   "display_name": "Python 3",
   "language": "python",
   "name": "python3"
  },
  "language_info": {
   "codemirror_mode": {
    "name": "ipython",
    "version": 2
   },
   "file_extension": ".py",
   "mimetype": "text/x-python",
   "name": "python",
   "nbconvert_exporter": "python",
   "pygments_lexer": "ipython2",
   "version": "2.7.6"
  }
 },
 "nbformat": 4,
 "nbformat_minor": 5
}
